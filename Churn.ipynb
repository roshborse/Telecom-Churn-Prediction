{
 "cells": [
  {
   "cell_type": "code",
   "execution_count": 36,
   "metadata": {
    "scrolled": false
   },
   "outputs": [],
   "source": [
    "import pandas as pd\n",
    "import numpy as np\n",
    "from sklearn.model_selection import train_test_split\n",
    "from sklearn.metrics import roc_auc_score\n",
    "from sklearn.model_selection import cross_val_score\n",
    "from sklearn.metrics import confusion_matrix\n",
    "# import warnings filter\n",
    "from warnings import simplefilter\n",
    "#ignore all future warnings\n",
    "simplefilter(action = 'ignore', category=FutureWarning)"
   ]
  },
  {
   "cell_type": "code",
   "execution_count": 37,
   "metadata": {},
   "outputs": [
    {
     "data": {
      "text/html": [
       "<div>\n",
       "<style scoped>\n",
       "    .dataframe tbody tr th:only-of-type {\n",
       "        vertical-align: middle;\n",
       "    }\n",
       "\n",
       "    .dataframe tbody tr th {\n",
       "        vertical-align: top;\n",
       "    }\n",
       "\n",
       "    .dataframe thead th {\n",
       "        text-align: right;\n",
       "    }\n",
       "</style>\n",
       "<table border=\"1\" class=\"dataframe\">\n",
       "  <thead>\n",
       "    <tr style=\"text-align: right;\">\n",
       "      <th></th>\n",
       "      <th>VMail Message</th>\n",
       "      <th>Day Mins</th>\n",
       "      <th>Day Calls</th>\n",
       "      <th>Day Charge</th>\n",
       "      <th>Eve Mins</th>\n",
       "      <th>Eve Calls</th>\n",
       "      <th>Eve Charge</th>\n",
       "      <th>Night Mins</th>\n",
       "      <th>Night Calls</th>\n",
       "      <th>Night Charge</th>\n",
       "      <th>Intl Mins</th>\n",
       "      <th>Intl Calls</th>\n",
       "      <th>Intl Charge</th>\n",
       "      <th>CustServ Calls</th>\n",
       "      <th>Churn</th>\n",
       "    </tr>\n",
       "  </thead>\n",
       "  <tbody>\n",
       "    <tr>\n",
       "      <th>3</th>\n",
       "      <td>0</td>\n",
       "      <td>299.4</td>\n",
       "      <td>71</td>\n",
       "      <td>50.90</td>\n",
       "      <td>61.9</td>\n",
       "      <td>88.0</td>\n",
       "      <td>5.26</td>\n",
       "      <td>196.9</td>\n",
       "      <td>89</td>\n",
       "      <td>8.86</td>\n",
       "      <td>6.6</td>\n",
       "      <td>7.0</td>\n",
       "      <td>1.78</td>\n",
       "      <td>2</td>\n",
       "      <td>False.</td>\n",
       "    </tr>\n",
       "    <tr>\n",
       "      <th>4</th>\n",
       "      <td>0</td>\n",
       "      <td>166.7</td>\n",
       "      <td>113</td>\n",
       "      <td>28.34</td>\n",
       "      <td>148.3</td>\n",
       "      <td>122.0</td>\n",
       "      <td>12.61</td>\n",
       "      <td>186.9</td>\n",
       "      <td>121</td>\n",
       "      <td>8.41</td>\n",
       "      <td>10.1</td>\n",
       "      <td>3.0</td>\n",
       "      <td>2.73</td>\n",
       "      <td>3</td>\n",
       "      <td>False.</td>\n",
       "    </tr>\n",
       "    <tr>\n",
       "      <th>5</th>\n",
       "      <td>0</td>\n",
       "      <td>223.4</td>\n",
       "      <td>98</td>\n",
       "      <td>37.98</td>\n",
       "      <td>220.6</td>\n",
       "      <td>101.0</td>\n",
       "      <td>18.75</td>\n",
       "      <td>203.9</td>\n",
       "      <td>118</td>\n",
       "      <td>9.18</td>\n",
       "      <td>6.3</td>\n",
       "      <td>6.0</td>\n",
       "      <td>1.70</td>\n",
       "      <td>0</td>\n",
       "      <td>False.</td>\n",
       "    </tr>\n",
       "    <tr>\n",
       "      <th>6</th>\n",
       "      <td>24</td>\n",
       "      <td>218.2</td>\n",
       "      <td>88</td>\n",
       "      <td>37.09</td>\n",
       "      <td>348.5</td>\n",
       "      <td>108.0</td>\n",
       "      <td>29.62</td>\n",
       "      <td>212.6</td>\n",
       "      <td>118</td>\n",
       "      <td>9.57</td>\n",
       "      <td>7.5</td>\n",
       "      <td>7.0</td>\n",
       "      <td>2.03</td>\n",
       "      <td>3</td>\n",
       "      <td>False.</td>\n",
       "    </tr>\n",
       "    <tr>\n",
       "      <th>9</th>\n",
       "      <td>37</td>\n",
       "      <td>258.6</td>\n",
       "      <td>84</td>\n",
       "      <td>43.96</td>\n",
       "      <td>222.0</td>\n",
       "      <td>111.0</td>\n",
       "      <td>18.87</td>\n",
       "      <td>326.4</td>\n",
       "      <td>97</td>\n",
       "      <td>14.69</td>\n",
       "      <td>11.2</td>\n",
       "      <td>5.0</td>\n",
       "      <td>3.02</td>\n",
       "      <td>0</td>\n",
       "      <td>False.</td>\n",
       "    </tr>\n",
       "  </tbody>\n",
       "</table>\n",
       "</div>"
      ],
      "text/plain": [
       "   VMail Message  Day Mins  Day Calls  Day Charge  Eve Mins  Eve Calls  \\\n",
       "3              0     299.4         71       50.90      61.9       88.0   \n",
       "4              0     166.7        113       28.34     148.3      122.0   \n",
       "5              0     223.4         98       37.98     220.6      101.0   \n",
       "6             24     218.2         88       37.09     348.5      108.0   \n",
       "9             37     258.6         84       43.96     222.0      111.0   \n",
       "\n",
       "   Eve Charge  Night Mins  Night Calls  Night Charge  Intl Mins  Intl Calls  \\\n",
       "3        5.26       196.9           89          8.86        6.6         7.0   \n",
       "4       12.61       186.9          121          8.41       10.1         3.0   \n",
       "5       18.75       203.9          118          9.18        6.3         6.0   \n",
       "6       29.62       212.6          118          9.57        7.5         7.0   \n",
       "9       18.87       326.4           97         14.69       11.2         5.0   \n",
       "\n",
       "   Intl Charge  CustServ Calls   Churn  \n",
       "3         1.78               2  False.  \n",
       "4         2.73               3  False.  \n",
       "5         1.70               0  False.  \n",
       "6         2.03               3  False.  \n",
       "9         3.02               0  False.  "
      ]
     },
     "execution_count": 37,
     "metadata": {},
     "output_type": "execute_result"
    }
   ],
   "source": [
    "churn= pd.read_csv('Churn.csv', na_values='?')\n",
    "churn = churn.rename(index=str, columns={'Churn?':'Churn',\"Int'l Plan\":'Intl Plan'})\n",
    "churn = churn.drop(['Unnamed: 0','State', 'Account Length', 'Area Code', 'Phone','Intl Plan', 'VMail Plan'], axis = 1)\n",
    "churn = churn.dropna()\n",
    "churn.head()"
   ]
  },
  {
   "cell_type": "code",
   "execution_count": 17,
   "metadata": {},
   "outputs": [
    {
     "name": "stdout",
     "output_type": "stream",
     "text": [
      "<class 'pandas.core.frame.DataFrame'>\n",
      "Index: 1737 entries, 3 to 3331\n",
      "Data columns (total 15 columns):\n",
      "VMail Message     1737 non-null int64\n",
      "Day Mins          1737 non-null float64\n",
      "Day Calls         1737 non-null int64\n",
      "Day Charge        1737 non-null float64\n",
      "Eve Mins          1737 non-null float64\n",
      "Eve Calls         1737 non-null float64\n",
      "Eve Charge        1737 non-null float64\n",
      "Night Mins        1737 non-null float64\n",
      "Night Calls       1737 non-null int64\n",
      "Night Charge      1737 non-null float64\n",
      "Intl Mins         1737 non-null float64\n",
      "Intl Calls        1737 non-null float64\n",
      "Intl Charge       1737 non-null float64\n",
      "CustServ Calls    1737 non-null int64\n",
      "Churn             1737 non-null object\n",
      "dtypes: float64(10), int64(4), object(1)\n",
      "memory usage: 217.1+ KB\n"
     ]
    }
   ],
   "source": [
    "churn.info() "
   ]
  },
  {
   "cell_type": "code",
   "execution_count": 38,
   "metadata": {},
   "outputs": [],
   "source": [
    "#model split for testing and training - std 75-25% split\n",
    "X = churn.drop('Churn', axis=1)  \n",
    "y = churn['Churn']\n",
    "X_train, X_test, y_train, y_test = train_test_split(X, y,random_state=0)"
   ]
  },
  {
   "cell_type": "code",
   "execution_count": 47,
   "metadata": {},
   "outputs": [
    {
     "name": "stdout",
     "output_type": "stream",
     "text": [
      "AUC:0.80\n",
      "Accuracy of Decision Tree classifier on training set: 0.93\n",
      "Accuracy of Decision Tree classifier on test set: 0.92\n"
     ]
    }
   ],
   "source": [
    "from sklearn.tree import DecisionTreeClassifier\n",
    "\n",
    "clf = DecisionTreeClassifier(max_depth = 5, random_state = 0).fit(X_train, y_train)\n",
    "\n",
    "scores = cross_val_score(clf, X, y, cv=10, scoring = 'roc_auc')\n",
    "print('AUC:%0.2f' %(scores.mean()))\n",
    "print('Accuracy of Decision Tree classifier on training set: {:.2f}'\n",
    "     .format(clf.score(X_train, y_train)))\n",
    "print('Accuracy of Decision Tree classifier on test set: {:.2f}'\n",
    "     .format(clf.score(X_test, y_test)))"
   ]
  },
  {
   "cell_type": "code",
   "execution_count": 48,
   "metadata": {},
   "outputs": [
    {
     "name": "stdout",
     "output_type": "stream",
     "text": [
      "AUC:0.85\n",
      "Accuracy of Gradient Boosting classifier on training set: 0.95\n",
      "Accuracy of Gradient Boosting classifier on test set: 0.92\n"
     ]
    }
   ],
   "source": [
    "from sklearn.ensemble import GradientBoostingClassifier\n",
    "\n",
    "clf = GradientBoostingClassifier().fit(X_train, y_train)\n",
    "scores = cross_val_score(clf, X, y, cv=10, scoring = 'roc_auc')\n",
    "print('AUC:%0.2f' %(scores.mean()))\n",
    "print('Accuracy of Gradient Boosting classifier on training set: {:.2f}'\n",
    "     .format(clf.score(X_train, y_train)))\n",
    "print('Accuracy of Gradient Boosting classifier on test set: {:.2f}'\n",
    "     .format(clf.score(X_test, y_test)))"
   ]
  },
  {
   "cell_type": "code",
   "execution_count": 49,
   "metadata": {},
   "outputs": [
    {
     "name": "stdout",
     "output_type": "stream",
     "text": [
      "AUC:0.84\n",
      "Accuracy of Decision Tree classifier on training set: 1.00\n",
      "Accuracy of Decision Tree classifier on test set: 0.93\n"
     ]
    }
   ],
   "source": [
    "from sklearn.ensemble import RandomForestClassifier\n",
    "\n",
    "clf = RandomForestClassifier(max_features = 14,n_estimators = 100, random_state = 0).fit(X_train, y_train)\n",
    "scores = cross_val_score(clf, X, y, cv=10, scoring = 'roc_auc')\n",
    "print('AUC:%0.2f' %(scores.mean()))\n",
    "print('Accuracy of Decision Tree classifier on training set: {:.2f}'.format(clf.score(X_train, y_train)))\n",
    "print('Accuracy of Decision Tree classifier on test set: {:.2f}'.format(clf.score(X_test, y_test)))"
   ]
  },
  {
   "cell_type": "code",
   "execution_count": null,
   "metadata": {},
   "outputs": [],
   "source": []
  }
 ],
 "metadata": {
  "kernelspec": {
   "display_name": "Python 3",
   "language": "python",
   "name": "python3"
  },
  "language_info": {
   "codemirror_mode": {
    "name": "ipython",
    "version": 3
   },
   "file_extension": ".py",
   "mimetype": "text/x-python",
   "name": "python",
   "nbconvert_exporter": "python",
   "pygments_lexer": "ipython3",
   "version": "3.7.3"
  }
 },
 "nbformat": 4,
 "nbformat_minor": 2
}
