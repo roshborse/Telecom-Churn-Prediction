{
 "cells": [
  {
   "cell_type": "code",
   "execution_count": 113,
   "metadata": {},
   "outputs": [],
   "source": [
    "import pandas as pd\n",
    "import numpy as np\n",
    "from sklearn import preprocessing\n",
    "from sklearn.model_selection import train_test_split\n",
    "from sklearn.model_selection import cross_val_score\n",
    "from sklearn.metrics import roc_auc_score\n",
    "# import warnings filter\n",
    "from warnings import simplefilter\n",
    "#ignore all future warnings\n",
    "simplefilter(action = 'ignore', category=FutureWarning)"
   ]
  },
  {
   "cell_type": "code",
   "execution_count": 114,
   "metadata": {},
   "outputs": [
    {
     "data": {
      "text/html": [
       "<div>\n",
       "<style scoped>\n",
       "    .dataframe tbody tr th:only-of-type {\n",
       "        vertical-align: middle;\n",
       "    }\n",
       "\n",
       "    .dataframe tbody tr th {\n",
       "        vertical-align: top;\n",
       "    }\n",
       "\n",
       "    .dataframe thead th {\n",
       "        text-align: right;\n",
       "    }\n",
       "</style>\n",
       "<table border=\"1\" class=\"dataframe\">\n",
       "  <thead>\n",
       "    <tr style=\"text-align: right;\">\n",
       "      <th></th>\n",
       "      <th>Unnamed: 0</th>\n",
       "      <th>State</th>\n",
       "      <th>Account Length</th>\n",
       "      <th>Area Code</th>\n",
       "      <th>Intl Plan</th>\n",
       "      <th>VMail Plan</th>\n",
       "      <th>VMail Message</th>\n",
       "      <th>Day Mins</th>\n",
       "      <th>Day Calls</th>\n",
       "      <th>Day Charge</th>\n",
       "      <th>...</th>\n",
       "      <th>Eve Calls</th>\n",
       "      <th>Eve Charge</th>\n",
       "      <th>Night Mins</th>\n",
       "      <th>Night Calls</th>\n",
       "      <th>Night Charge</th>\n",
       "      <th>Intl Mins</th>\n",
       "      <th>Intl Calls</th>\n",
       "      <th>Intl Charge</th>\n",
       "      <th>CustServ Calls</th>\n",
       "      <th>Churn</th>\n",
       "    </tr>\n",
       "  </thead>\n",
       "  <tbody>\n",
       "    <tr>\n",
       "      <th>3</th>\n",
       "      <td>3</td>\n",
       "      <td>OH</td>\n",
       "      <td>84</td>\n",
       "      <td>408.0</td>\n",
       "      <td>yes</td>\n",
       "      <td>no</td>\n",
       "      <td>0</td>\n",
       "      <td>299.4</td>\n",
       "      <td>71</td>\n",
       "      <td>50.90</td>\n",
       "      <td>...</td>\n",
       "      <td>88.0</td>\n",
       "      <td>5.26</td>\n",
       "      <td>196.9</td>\n",
       "      <td>89</td>\n",
       "      <td>8.86</td>\n",
       "      <td>6.6</td>\n",
       "      <td>7.0</td>\n",
       "      <td>1.78</td>\n",
       "      <td>2</td>\n",
       "      <td>0</td>\n",
       "    </tr>\n",
       "    <tr>\n",
       "      <th>4</th>\n",
       "      <td>4</td>\n",
       "      <td>OK</td>\n",
       "      <td>75</td>\n",
       "      <td>415.0</td>\n",
       "      <td>yes</td>\n",
       "      <td>no</td>\n",
       "      <td>0</td>\n",
       "      <td>166.7</td>\n",
       "      <td>113</td>\n",
       "      <td>28.34</td>\n",
       "      <td>...</td>\n",
       "      <td>122.0</td>\n",
       "      <td>12.61</td>\n",
       "      <td>186.9</td>\n",
       "      <td>121</td>\n",
       "      <td>8.41</td>\n",
       "      <td>10.1</td>\n",
       "      <td>3.0</td>\n",
       "      <td>2.73</td>\n",
       "      <td>3</td>\n",
       "      <td>0</td>\n",
       "    </tr>\n",
       "    <tr>\n",
       "      <th>5</th>\n",
       "      <td>5</td>\n",
       "      <td>AL</td>\n",
       "      <td>118</td>\n",
       "      <td>510.0</td>\n",
       "      <td>yes</td>\n",
       "      <td>no</td>\n",
       "      <td>0</td>\n",
       "      <td>223.4</td>\n",
       "      <td>98</td>\n",
       "      <td>37.98</td>\n",
       "      <td>...</td>\n",
       "      <td>101.0</td>\n",
       "      <td>18.75</td>\n",
       "      <td>203.9</td>\n",
       "      <td>118</td>\n",
       "      <td>9.18</td>\n",
       "      <td>6.3</td>\n",
       "      <td>6.0</td>\n",
       "      <td>1.70</td>\n",
       "      <td>0</td>\n",
       "      <td>0</td>\n",
       "    </tr>\n",
       "    <tr>\n",
       "      <th>6</th>\n",
       "      <td>6</td>\n",
       "      <td>MA</td>\n",
       "      <td>121</td>\n",
       "      <td>510.0</td>\n",
       "      <td>no</td>\n",
       "      <td>yes</td>\n",
       "      <td>24</td>\n",
       "      <td>218.2</td>\n",
       "      <td>88</td>\n",
       "      <td>37.09</td>\n",
       "      <td>...</td>\n",
       "      <td>108.0</td>\n",
       "      <td>29.62</td>\n",
       "      <td>212.6</td>\n",
       "      <td>118</td>\n",
       "      <td>9.57</td>\n",
       "      <td>7.5</td>\n",
       "      <td>7.0</td>\n",
       "      <td>2.03</td>\n",
       "      <td>3</td>\n",
       "      <td>0</td>\n",
       "    </tr>\n",
       "    <tr>\n",
       "      <th>9</th>\n",
       "      <td>9</td>\n",
       "      <td>WV</td>\n",
       "      <td>141</td>\n",
       "      <td>415.0</td>\n",
       "      <td>yes</td>\n",
       "      <td>yes</td>\n",
       "      <td>37</td>\n",
       "      <td>258.6</td>\n",
       "      <td>84</td>\n",
       "      <td>43.96</td>\n",
       "      <td>...</td>\n",
       "      <td>111.0</td>\n",
       "      <td>18.87</td>\n",
       "      <td>326.4</td>\n",
       "      <td>97</td>\n",
       "      <td>14.69</td>\n",
       "      <td>11.2</td>\n",
       "      <td>5.0</td>\n",
       "      <td>3.02</td>\n",
       "      <td>0</td>\n",
       "      <td>0</td>\n",
       "    </tr>\n",
       "  </tbody>\n",
       "</table>\n",
       "<p>5 rows × 21 columns</p>\n",
       "</div>"
      ],
      "text/plain": [
       "   Unnamed: 0 State  Account Length  Area Code Intl Plan VMail Plan  \\\n",
       "3           3    OH              84      408.0       yes         no   \n",
       "4           4    OK              75      415.0       yes         no   \n",
       "5           5    AL             118      510.0       yes         no   \n",
       "6           6    MA             121      510.0        no        yes   \n",
       "9           9    WV             141      415.0       yes        yes   \n",
       "\n",
       "   VMail Message  Day Mins  Day Calls  Day Charge  ...  Eve Calls  Eve Charge  \\\n",
       "3              0     299.4         71       50.90  ...       88.0        5.26   \n",
       "4              0     166.7        113       28.34  ...      122.0       12.61   \n",
       "5              0     223.4         98       37.98  ...      101.0       18.75   \n",
       "6             24     218.2         88       37.09  ...      108.0       29.62   \n",
       "9             37     258.6         84       43.96  ...      111.0       18.87   \n",
       "\n",
       "   Night Mins  Night Calls  Night Charge  Intl Mins  Intl Calls  Intl Charge  \\\n",
       "3       196.9           89          8.86        6.6         7.0         1.78   \n",
       "4       186.9          121          8.41       10.1         3.0         2.73   \n",
       "5       203.9          118          9.18        6.3         6.0         1.70   \n",
       "6       212.6          118          9.57        7.5         7.0         2.03   \n",
       "9       326.4           97         14.69       11.2         5.0         3.02   \n",
       "\n",
       "   CustServ Calls  Churn  \n",
       "3               2      0  \n",
       "4               3      0  \n",
       "5               0      0  \n",
       "6               3      0  \n",
       "9               0      0  \n",
       "\n",
       "[5 rows x 21 columns]"
      ]
     },
     "execution_count": 114,
     "metadata": {},
     "output_type": "execute_result"
    }
   ],
   "source": [
    "churn = pd.read_csv('Churn.csv')\n",
    "churn= pd.read_csv('Churn.csv', na_values='?')\n",
    "churn = churn.rename(index=str, columns={'Churn?':'Churn',\"Int'l Plan\":'Intl Plan'})\n",
    "churn.drop([\"Phone\"], axis = 1, inplace=True)\n",
    "#churn['Churn'] = churn['Churn'].map(lambda x: x.rstrip('.'))\n",
    "churn['Churn'] = churn['Churn'].replace('False.', 0)\n",
    "churn['Churn'] = churn['Churn'].replace('True.', 1)\n",
    "churn = churn.dropna()\n",
    "churn.head()"
   ]
  },
  {
   "cell_type": "code",
   "execution_count": 115,
   "metadata": {},
   "outputs": [],
   "source": [
    "label_encoder = preprocessing.LabelEncoder()"
   ]
  },
  {
   "cell_type": "code",
   "execution_count": 116,
   "metadata": {},
   "outputs": [
    {
     "name": "stdout",
     "output_type": "stream",
     "text": [
      "Unnamed: 0          int64\n",
      "State               int32\n",
      "Account Length      int64\n",
      "Area Code         float64\n",
      "Intl Plan           int32\n",
      "VMail Plan          int32\n",
      "VMail Message       int64\n",
      "Day Mins          float64\n",
      "Day Calls           int64\n",
      "Day Charge        float64\n",
      "Eve Mins          float64\n",
      "Eve Calls         float64\n",
      "Eve Charge        float64\n",
      "Night Mins        float64\n",
      "Night Calls         int64\n",
      "Night Charge      float64\n",
      "Intl Mins         float64\n",
      "Intl Calls        float64\n",
      "Intl Charge       float64\n",
      "CustServ Calls      int64\n",
      "Churn               int64\n",
      "dtype: object\n"
     ]
    }
   ],
   "source": [
    "churn['State'] = label_encoder.fit_transform(churn['State'])\n",
    "churn['Intl Plan'] = label_encoder.fit_transform(churn['Intl Plan'])\n",
    "churn['VMail Plan'] = label_encoder.fit_transform(churn['VMail Plan'])\n",
    "print (churn.dtypes)"
   ]
  },
  {
   "cell_type": "code",
   "execution_count": 117,
   "metadata": {},
   "outputs": [],
   "source": [
    "X = churn.drop('Churn', axis=1)  \n",
    "y = churn['Churn']\n",
    "X_train, X_test, y_train, y_test = train_test_split(X, y,random_state=0)"
   ]
  },
  {
   "cell_type": "code",
   "execution_count": 118,
   "metadata": {},
   "outputs": [],
   "source": [
    "scaler = preprocessing.StandardScaler()\n",
    "X = scaler.fit_transform(X)"
   ]
  },
  {
   "cell_type": "code",
   "execution_count": 119,
   "metadata": {},
   "outputs": [
    {
     "name": "stdout",
     "output_type": "stream",
     "text": [
      "AUC:0.80\n",
      "Accuracy of Logistic Regression classifier on training set: 0.87\n",
      "Accuracy of Logistic Regression classifier on test set: 0.86\n"
     ]
    }
   ],
   "source": [
    "from sklearn.linear_model import LogisticRegression\n",
    "clf = LogisticRegression(C=1.0).fit(X_train, y_train)\n",
    "scores = cross_val_score(clf, X, y, cv=10, scoring = 'roc_auc')\n",
    "print('AUC:%0.2f' %(scores.mean()))\n",
    "print('Accuracy of Logistic Regression classifier on training set: {:.2f}'\n",
    "     .format(clf.score(X_train, y_train)))\n",
    "print('Accuracy of Logistic Regression classifier on test set: {:.2f}'\n",
    "     .format(clf.score(X_test, y_test)))"
   ]
  },
  {
   "cell_type": "code",
   "execution_count": 120,
   "metadata": {},
   "outputs": [
    {
     "name": "stdout",
     "output_type": "stream",
     "text": [
      "AUC:0.87\n",
      "Accuracy of Decision Tree classifier on training set: 0.93\n",
      "Accuracy of Decision Tree classifier on test set: 0.93\n"
     ]
    }
   ],
   "source": [
    "from sklearn.tree import DecisionTreeClassifier\n",
    "\n",
    "clf = DecisionTreeClassifier(max_depth = 4, random_state = 0).fit(X_train, y_train)\n",
    "\n",
    "scores = cross_val_score(clf, X, y, cv=10, scoring = 'roc_auc')\n",
    "print('AUC:%0.2f' %(scores.mean()))\n",
    "print('Accuracy of Decision Tree classifier on training set: {:.2f}'\n",
    "     .format(clf.score(X_train, y_train)))\n",
    "print('Accuracy of Decision Tree classifier on test set: {:.2f}'\n",
    "     .format(clf.score(X_test, y_test)))"
   ]
  },
  {
   "cell_type": "code",
   "execution_count": 121,
   "metadata": {},
   "outputs": [
    {
     "name": "stdout",
     "output_type": "stream",
     "text": [
      "AUC:0.92\n",
      "Accuracy of Gradient Boosting classifier on training set: 0.98\n",
      "Accuracy of Gradient Boosting classifier on test set: 0.94\n"
     ]
    }
   ],
   "source": [
    "from sklearn.ensemble import GradientBoostingClassifier\n",
    "\n",
    "clf = GradientBoostingClassifier().fit(X_train, y_train)\n",
    "scores = cross_val_score(clf, X, y, cv=10, scoring = 'roc_auc')\n",
    "print('AUC:%0.2f' %(scores.mean()))\n",
    "print('Accuracy of Gradient Boosting classifier on training set: {:.2f}'\n",
    "     .format(clf.score(X_train, y_train)))\n",
    "print('Accuracy of Gradient Boosting classifier on test set: {:.2f}'\n",
    "     .format(clf.score(X_test, y_test)))\n",
    "# Model is overfitting, when no parameter tuning is done"
   ]
  },
  {
   "cell_type": "code",
   "execution_count": 123,
   "metadata": {},
   "outputs": [
    {
     "name": "stdout",
     "output_type": "stream",
     "text": [
      "AUC:0.84\n",
      "Accuracy of Decision Tree classifier on training set: 0.85\n",
      "Accuracy of Decision Tree classifier on test set: 0.85\n"
     ]
    }
   ],
   "source": [
    "clf = GradientBoostingClassifier(learning_rate = 0.01,n_estimators = 20,max_depth = 3,random_state = 0).fit(X_train, y_train)\n",
    "scores = cross_val_score(clf, X, y, cv=10, scoring = 'roc_auc')\n",
    "print('AUC:%0.2f' %(scores.mean()))\n",
    "print('Accuracy of Decision Tree classifier on training set: {:.2f}'\n",
    "     .format(clf.score(X_train, y_train)))\n",
    "print('Accuracy of Decision Tree classifier on test set: {:.2f}'\n",
    "     .format(clf.score(X_test, y_test)))\n",
    "# Model is perfectly fit when parameter tuning is done, on expense of AUC score which drops down to 0.84!"
   ]
  },
  {
   "cell_type": "code",
   "execution_count": null,
   "metadata": {},
   "outputs": [],
   "source": []
  }
 ],
 "metadata": {
  "kernelspec": {
   "display_name": "Python 3",
   "language": "python",
   "name": "python3"
  },
  "language_info": {
   "codemirror_mode": {
    "name": "ipython",
    "version": 3
   },
   "file_extension": ".py",
   "mimetype": "text/x-python",
   "name": "python",
   "nbconvert_exporter": "python",
   "pygments_lexer": "ipython3",
   "version": "3.7.3"
  }
 },
 "nbformat": 4,
 "nbformat_minor": 2
}
